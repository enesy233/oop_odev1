{
 "cells": [
  {
   "cell_type": "markdown",
   "id": "b78dbe2a-2cbc-434c-9c57-3a0e15506427",
   "metadata": {},
   "source": [
    "## Odev 1"
   ]
  },
  {
   "cell_type": "code",
   "execution_count": 1,
   "id": "0dd27bdf-c972-40b9-9b8d-db0a4939798f",
   "metadata": {},
   "outputs": [],
   "source": [
    "class kitap:\n",
    "    def __init__(self,isim,yazar,sayfasayisi):\n",
    "        self.isim=isim\n",
    "        self.yazar=yazar\n",
    "        self.sayfasayisi=sayfasayisi\n",
    "\n",
    "    def bilgileri_soyle(self):\n",
    "        print(f\"kitap adı  {self.isim}\")\n",
    "        print(f\"kitap yazarı {self.yazar}\")\n",
    "        print(f\"kitap sayfası) {self.sayfasayisi}\")"
   ]
  },
  {
   "cell_type": "code",
   "execution_count": 2,
   "id": "96a80677-8c43-4176-9bb3-7ba350f71c6e",
   "metadata": {},
   "outputs": [],
   "source": [
    "kitap1=kitap(\"sefiller\",\"victor hugo\",1100)\n",
    "kitap2=kitap(\"suç ve ceza\",\"dostoyevski\",700)\n",
    "kitap3=kitap(\"anna karenina\",\"tolstoy\",500)"
   ]
  },
  {
   "cell_type": "code",
   "execution_count": 3,
   "id": "adcdb034-a908-4f12-8120-512a177c07ab",
   "metadata": {
    "scrolled": true
   },
   "outputs": [
    {
     "data": {
      "text/plain": [
       "<bound method kitap.bilgileri_soyle of <__main__.kitap object at 0x000001CDD3C602D0>>"
      ]
     },
     "execution_count": 3,
     "metadata": {},
     "output_type": "execute_result"
    }
   ],
   "source": [
    "kitap1.bilgileri_soyle\n",
    "kitap2.bilgileri_soyle\n",
    "kitap3.bilgileri_soyle\n",
    "    "
   ]
  },
  {
   "cell_type": "markdown",
   "id": "a23f58b4-c657-4e55-856d-5194a58db73b",
   "metadata": {},
   "source": [
    "# odev2"
   ]
  },
  {
   "cell_type": "code",
   "execution_count": 4,
   "id": "dfba4cad-8b32-4f0f-ab6c-49a3b97112cd",
   "metadata": {},
   "outputs": [],
   "source": [
    "class calisan():\n",
    "    def __init__(self,isim,maas,departman):\n",
    "        self.isim=isim\n",
    "        self.maas=maas\n",
    "        self.departman=departman\n",
    "    def bilgileri_goster(self):\n",
    "        print(f\"isim {self.isim}\")\n",
    "        print(f\"maas {self.maas}\")\n",
    "        print(f\"departman {self.departman}\")"
   ]
  },
  {
   "cell_type": "code",
   "execution_count": 10,
   "id": "9a4bebad-cc08-40bd-b412-e546e0100d2d",
   "metadata": {},
   "outputs": [],
   "source": [
    "class yonetici(calisan):\n",
    "    def __init__(self,isim,maas,departman,sorumlu_oldugu_ekip=\"yazılım\"):\n",
    "        super().__init__(isim,maas,departman)\n",
    "        self.sorumlu_oldugu_ekip=sorumlu_oldugu_ekip\n",
    "\n",
    "    def bilgileri_goster(self):\n",
    "        super().bilgileri_goster()\n",
    "        print(f\"sorumlu oldugu ekip sayısı {self.sorumlu_oldugu_ekip}\")"
   ]
  },
  {
   "cell_type": "code",
   "execution_count": 15,
   "id": "45118551-c82c-4218-80d6-567ac2201863",
   "metadata": {},
   "outputs": [],
   "source": [
    "\n",
    "calisan1=calisan(\"enes\",5000,\"elektronik\")\n",
    "yonetici1=yonetici(\"ali\",10000,\"yazılım\",\"donanım\")"
   ]
  },
  {
   "cell_type": "code",
   "execution_count": 16,
   "id": "ced983b3-110f-4343-ab16-aab038d8e33a",
   "metadata": {},
   "outputs": [
    {
     "name": "stdout",
     "output_type": "stream",
     "text": [
      "isim enes\n",
      "maas 5000\n",
      "departman elektronik\n",
      "\n",
      "isim ali\n",
      "maas 10000\n",
      "departman yazılım\n",
      "sorumlu oldugu ekip sayısı donanım\n",
      "\n"
     ]
    }
   ],
   "source": [
    "calisan1.bilgileri_goster()\n",
    "print()\n",
    "yonetici1.bilgileri_goster()\n",
    "print()"
   ]
  },
  {
   "cell_type": "markdown",
   "id": "8f54d35c-b831-4cb8-90db-de45835b9bcb",
   "metadata": {},
   "source": [
    "# odev 3"
   ]
  },
  {
   "cell_type": "code",
   "execution_count": null,
   "id": "bba914fb-e35a-4d4d-8de2-ef56b76b8af0",
   "metadata": {},
   "outputs": [],
   "source": [
    "class kitap():\n",
    "    def __init__(self,isim,yazar,tür,):\n",
    "        self.isim=isim\n",
    "        self.yazar=yazar\n",
    "        self.tür=tür\n",
    "    def __str__(self):\n",
    "        \n",
    "         return f\"{self.isim}-{self.yazar}-{self.tür}\"   \n",
    "\n",
    "class kütüphane():\n",
    "    def __init__(self,dosya=\"kitaplar.txt\"):\n",
    "        self.dosya=dosya\n",
    "        self.kitaplar=[]\n",
    "        self.kitaplari_yukle()\n",
    "   \n",
    "    def kitaplari_yukle(self):\n",
    "        try:\n",
    "            with open(self.dosya, \"r\", encoding=\"utf-8\") as f:\n",
    "                for satir in f:\n",
    "                    veri = satir.strip().split(\";\")\n",
    "                    if len(veri) == 3:\n",
    "                        kitap = Kitap(*veri)\n",
    "                        self.kitaplar.append(kitap)\n",
    "        except FileNotFoundError :\n",
    "            pass\n",
    "    \n",
    "    def kitaplari_kaydet(self):\n",
    "           with open(self.dosya,\"w\",encoding=\"utf-8\") as f:\n",
    "               for kitap in self.kitaplar:\n",
    "                   f.write(f\"{self.isim}{self.yazar}{self.tür}\")\n",
    "\n",
    "    def kitap_ekle(self,kitap):\n",
    "        self.kitaplar.append(kitap)\n",
    "        self.kitaplari_kaydet()\n",
    "        print(\"kitap kaydedildi\")\n",
    "\n",
    "    def kitap_sil(self,isim):\n",
    "        for kitap in slelf.kitaplar:\n",
    "            if kitap.isim.lower()==isim.lower():\n",
    "                self.kitaplar.remove(kitap)\n",
    "                self.kitaplari_kaydet()\n",
    "                print(\"kitap silindi\")\n",
    "                return \n",
    "        print(\"kitap bulunamadı\") \n",
    "\n",
    "\n",
    "\n",
    "    def tum_kitaplari_goster(self):\n",
    "        if not self.kitaplar:\n",
    "            print(\"kütüphane boş\")\n",
    "        else:\n",
    "            for kitap in self.kitaplar:\n",
    "                print(\"kitaplar\")\n",
    "\n",
    "kutuphane=Kutuphane()\n",
    "   \n",
    "\n",
    "while True:\n",
    "    print(\"1.yeni kitap ekle\")\n",
    "    print(\"2.kitap sil\")\n",
    "    print(\"3.kitapları listele\")\n",
    "    print(\"4.çıkış yap\")\n",
    "\n",
    "\n",
    "\n",
    "    secim=input(\"işlemi seçiniz\")\n",
    "    \n",
    "    \n",
    "         if secim==\"1\":\n",
    "             isim=input(\"kitap ismi\")\n",
    "             yazar=input(\"yazar\")\n",
    "             tür=input(\"kitap türü\")\n",
    "             kütüphane.kitap_ekle(yeni_kitap)\n",
    "    \n",
    "             \n",
    "         elif       secim==\"2\":\n",
    "             isim=input(\"silmek istediğin kitap ismi\")\n",
    "             kütüphane.kitap_sil(isim)\n",
    "           \n",
    "    \n",
    "         elif     secim==\"3\":\n",
    "             kütüphane.tum_kitaplari_goster()\n",
    "           \n",
    "    \n",
    "         elif   secim==\"4\":\n",
    "             print(\"cıkılıyor\")\n",
    "             break\n",
    "    \n",
    "                       \n",
    "     \n",
    "       \n",
    "   "
   ]
  },
  {
   "cell_type": "code",
   "execution_count": 75,
   "id": "24818ed4-33e2-4252-9dc1-ee501d65026c",
   "metadata": {},
   "outputs": [
    {
     "name": "stdout",
     "output_type": "stream",
     "text": [
      "1. Yeni kitap ekle\n",
      "2. Kitap sil\n",
      "3. Kitapları listele\n",
      "4. Çıkış yap\n",
      "İşlemi seçiniz: \n",
      "Zaman aşımı! Lütfen tekrar deneyin.\n",
      "1. Yeni kitap ekle\n",
      "2. Kitap sil\n",
      "3. Kitapları listele\n",
      "4. Çıkış yap\n",
      "İşlemi seçiniz: \n",
      "Zaman aşımı! Lütfen tekrar deneyin.\n",
      "1. Yeni kitap ekle\n",
      "2. Kitap sil\n",
      "3. Kitapları listele\n",
      "4. Çıkış yap\n",
      "İşlemi seçiniz: "
     ]
    },
    {
     "ename": "KeyboardInterrupt",
     "evalue": "",
     "output_type": "error",
     "traceback": [
      "\u001b[1;31m---------------------------------------------------------------------------\u001b[0m",
      "\u001b[1;31mKeyboardInterrupt\u001b[0m                         Traceback (most recent call last)",
      "Cell \u001b[1;32mIn[75], line 92\u001b[0m\n\u001b[0;32m     89\u001b[0m \u001b[38;5;28mprint\u001b[39m(\u001b[38;5;124m\"\u001b[39m\u001b[38;5;124m3. Kitapları listele\u001b[39m\u001b[38;5;124m\"\u001b[39m)\n\u001b[0;32m     90\u001b[0m \u001b[38;5;28mprint\u001b[39m(\u001b[38;5;124m\"\u001b[39m\u001b[38;5;124m4. Çıkış yap\u001b[39m\u001b[38;5;124m\"\u001b[39m)\n\u001b[1;32m---> 92\u001b[0m secim \u001b[38;5;241m=\u001b[39m input_with_timeout(\u001b[38;5;124m\"\u001b[39m\u001b[38;5;124mİşlemi seçiniz: \u001b[39m\u001b[38;5;124m\"\u001b[39m, \u001b[38;5;241m10\u001b[39m)\n\u001b[0;32m     93\u001b[0m \u001b[38;5;28;01mif\u001b[39;00m secim \u001b[38;5;129;01mis\u001b[39;00m \u001b[38;5;28;01mNone\u001b[39;00m:\n\u001b[0;32m     96\u001b[0m  \u001b[38;5;28;01mif\u001b[39;00m secim \u001b[38;5;241m==\u001b[39m \u001b[38;5;124m\"\u001b[39m\u001b[38;5;124m1\u001b[39m\u001b[38;5;124m\"\u001b[39m:\n",
      "Cell \u001b[1;32mIn[75], line 78\u001b[0m, in \u001b[0;36minput_with_timeout\u001b[1;34m(prompt, timeout)\u001b[0m\n\u001b[0;32m     76\u001b[0m         input_str \u001b[38;5;241m+\u001b[39m\u001b[38;5;241m=\u001b[39m char\n\u001b[0;32m     77\u001b[0m         \u001b[38;5;28mprint\u001b[39m(char, end\u001b[38;5;241m=\u001b[39m\u001b[38;5;124m'\u001b[39m\u001b[38;5;124m'\u001b[39m, flush\u001b[38;5;241m=\u001b[39m\u001b[38;5;28;01mTrue\u001b[39;00m)\n\u001b[1;32m---> 78\u001b[0m \u001b[38;5;28;01mif\u001b[39;00m time\u001b[38;5;241m.\u001b[39mtime() \u001b[38;5;241m-\u001b[39m start_time \u001b[38;5;241m>\u001b[39m timeout:\n\u001b[0;32m     79\u001b[0m     \u001b[38;5;28mprint\u001b[39m(\u001b[38;5;124m\"\u001b[39m\u001b[38;5;130;01m\\n\u001b[39;00m\u001b[38;5;124mZaman aşımı! Lütfen tekrar deneyin.\u001b[39m\u001b[38;5;124m\"\u001b[39m)\n\u001b[0;32m     80\u001b[0m     \u001b[38;5;28;01mreturn\u001b[39;00m \u001b[38;5;28;01mNone\u001b[39;00m\n",
      "\u001b[1;31mKeyboardInterrupt\u001b[0m: "
     ]
    }
   ],
   "source": [
    "import msvcrt\n",
    "import time\n",
    "\n",
    "\n",
    "\n",
    "\n",
    "class Kitap:\n",
    "    def __init__(self, isim, yazar, tür):\n",
    "        self.isim = isim\n",
    "        self.yazar = yazar\n",
    "        self.tür = tür\n",
    "\n",
    "    def __str__(self):\n",
    "        return f\"{self.isim} - {self.yazar} - {self.tür}\"\n",
    "\n",
    "\n",
    "class Kutuphane:\n",
    "    def __init__(self, dosya=\"kitaplar.txt\"):\n",
    "        self.dosya = dosya\n",
    "        self.kitaplar = []\n",
    "        self.kitaplari_yukle()\n",
    "\n",
    "    def kitaplari_yukle(self):\n",
    "        try:\n",
    "            with open(self.dosya, \"r\", encoding=\"utf-8\") as f:\n",
    "                for satir in f:\n",
    "                    veri = satir.strip().split(\";\")\n",
    "                    if len(veri) == 3:\n",
    "                        kitap = Kitap(*veri)\n",
    "                        self.kitaplar.append(kitap)\n",
    "        except FileNotFoundError:\n",
    "            pass\n",
    "\n",
    "    def kitaplari_kaydet(self):\n",
    "        with open(self.dosya, \"w\", encoding=\"utf-8\") as f:\n",
    "            for kitap in self.kitaplar:\n",
    "                f.write(f\"{kitap.isim};{kitap.yazar};{kitap.tür}\\n\")\n",
    "\n",
    "    def kitap_ekle(self, kitap):\n",
    "        self.kitaplar.append(kitap)\n",
    "        self.kitaplari_kaydet()\n",
    "        print(\"Kitap kaydedildi.\")\n",
    "\n",
    "    def kitap_sil(self, isim):\n",
    "        for kitap in self.kitaplar:\n",
    "            if kitap.isim.lower() == isim.lower():\n",
    "                self.kitaplar.remove(kitap)\n",
    "                self.kitaplari_kaydet()\n",
    "                print(\"Kitap silindi.\")\n",
    "                return\n",
    "        print(\"Kitap bulunamadı.\")\n",
    "\n",
    "    def tum_kitaplari_goster(self):\n",
    "        if not self.kitaplar:\n",
    "            print(\"Kütüphane boş.\")\n",
    "        else:\n",
    "            for kitap in self.kitaplar:\n",
    "                print(kitap)\n",
    "\n",
    "\n",
    "def input_with_timeout(prompt, timeout=10):\n",
    "    print(prompt, end='', flush=True)\n",
    "    start_time = time.time()\n",
    "    input_str = ''\n",
    "    while True:\n",
    "        if msvcrt.kbhit():\n",
    "            char = msvcrt.getwch()  # getwch kullanıldı (echo olmadan)\n",
    "            if char == '\\r':  # Enter tuşu\n",
    "                print()\n",
    "                return input_str\n",
    "            elif char == '\\b':  # Backspace tuşu\n",
    "                if input_str:\n",
    "                    input_str = input_str[:-1]\n",
    "                    print('\\b \\b', end='', flush=True)\n",
    "            else:\n",
    "                input_str += char\n",
    "                print(char, end='', flush=True)\n",
    "        if time.time() - start_time > timeout:\n",
    "            print(\"\\nZaman aşımı! Lütfen tekrar deneyin.\")\n",
    "            return None\n",
    "            time.sleep(0.1)\n",
    "\n",
    "    \n",
    "kutuphane = Kutuphane()\n",
    "\n",
    "while True:\n",
    "    print(\"1. Yeni kitap ekle\")\n",
    "    print(\"2. Kitap sil\")\n",
    "    print(\"3. Kitapları listele\")\n",
    "    print(\"4. Çıkış yap\")\n",
    "\n",
    "    secim = input_with_timeout(\"İşlemi seçiniz: \", 10)\n",
    "    if secim is None:\n",
    "        \n",
    "\n",
    "     if secim == \"1\":\n",
    "        isim = input(\"Kitap ismi: \")\n",
    "        yazar = input(\"Yazar: \")\n",
    "        tür = input(\"Kitap türü: \")\n",
    "        yeni_kitap = Kitap(isim, yazar, tür)\n",
    "        kutuphane.kitap_ekle(yeni_kitap)\n",
    "\n",
    "    elif secim == \"2\":\n",
    "        isim = input(\"Silmek istediğin kitap ismi: \")\n",
    "        kutuphane.kitap_sil(isim)\n",
    "\n",
    "    elif secim == \"3\":\n",
    "        kutuphane.tum_kitaplari_goster()\n",
    "\n",
    "    elif secim == \"4\":\n",
    "        print(\"Çıkılıyor...\")\n",
    "        break\n",
    "\n",
    "    else:\n",
    "        print(\"Geçersiz seçim.\")\n"
   ]
  },
  {
   "cell_type": "code",
   "execution_count": null,
   "id": "c373356d-e3f2-41c5-bc44-5e8a9dc7bf1e",
   "metadata": {},
   "outputs": [],
   "source": [
    "1"
   ]
  },
  {
   "cell_type": "code",
   "execution_count": null,
   "id": "f961c652-c39d-4a5b-a35c-adfed11cad3d",
   "metadata": {},
   "outputs": [],
   "source": []
  }
 ],
 "metadata": {
  "kernelspec": {
   "display_name": "Python [conda env:base] *",
   "language": "python",
   "name": "conda-base-py"
  },
  "language_info": {
   "codemirror_mode": {
    "name": "ipython",
    "version": 3
   },
   "file_extension": ".py",
   "mimetype": "text/x-python",
   "name": "python",
   "nbconvert_exporter": "python",
   "pygments_lexer": "ipython3",
   "version": "3.13.5"
  }
 },
 "nbformat": 4,
 "nbformat_minor": 5
}
