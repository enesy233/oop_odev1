{
 "cells": [
  {
   "cell_type": "markdown",
   "id": "b78dbe2a-2cbc-434c-9c57-3a0e15506427",
   "metadata": {},
   "source": [
    "## Odev 1"
   ]
  },
  {
   "cell_type": "code",
   "execution_count": 1,
   "id": "0dd27bdf-c972-40b9-9b8d-db0a4939798f",
   "metadata": {},
   "outputs": [],
   "source": [
    "class kitap:\n",
    "    def __init__(self,isim,yazar,sayfasayisi):\n",
    "        self.isim=isim\n",
    "        self.yazar=yazar\n",
    "        self.sayfasayisi=sayfasayisi\n",
    "\n",
    "    def bilgileri_soyle(self):\n",
    "        print(f\"kitap adı  {self.isim}\")\n",
    "        print(f\"kitap yazarı {self.yazar}\")\n",
    "        print(f\"kitap sayfası) {self.sayfasayisi}\")"
   ]
  },
  {
   "cell_type": "code",
   "execution_count": 2,
   "id": "96a80677-8c43-4176-9bb3-7ba350f71c6e",
   "metadata": {},
   "outputs": [],
   "source": [
    "kitap1=kitap(\"sefiller\",\"victor hugo\",1100)\n",
    "kitap2=kitap(\"suç ve ceza\",\"dostoyevski\",700)\n",
    "kitap3=kitap(\"anna karenina\",\"tolstoy\",500)"
   ]
  },
  {
   "cell_type": "code",
   "execution_count": 3,
   "id": "adcdb034-a908-4f12-8120-512a177c07ab",
   "metadata": {
    "scrolled": true
   },
   "outputs": [
    {
     "data": {
      "text/plain": [
       "<bound method kitap.bilgileri_soyle of <__main__.kitap object at 0x000001CDD3C602D0>>"
      ]
     },
     "execution_count": 3,
     "metadata": {},
     "output_type": "execute_result"
    }
   ],
   "source": [
    "kitap1.bilgileri_soyle\n",
    "kitap2.bilgileri_soyle\n",
    "kitap3.bilgileri_soyle\n",
    "    "
   ]
  },
  {
   "cell_type": "code",
   "execution_count": 4,
   "id": "dfba4cad-8b32-4f0f-ab6c-49a3b97112cd",
   "metadata": {},
   "outputs": [],
   "source": [
    "class calisan():\n",
    "    def __init__(self,isim,maas,departman):\n",
    "        self.isim=isim\n",
    "        self.maas=maas\n",
    "        self.departman=departman\n",
    "    def bilgileri_goster(self):\n",
    "        print(f\"isim {self.isim}\")\n",
    "        print(f\"maas {self.maas}\")\n",
    "        print(f\"departman {self.departman}\")"
   ]
  },
  {
   "cell_type": "code",
   "execution_count": 10,
   "id": "9a4bebad-cc08-40bd-b412-e546e0100d2d",
   "metadata": {},
   "outputs": [],
   "source": [
    "class yonetici(calisan):\n",
    "    def __init__(self,isim,maas,departman,sorumlu_oldugu_ekip=\"yazılım\"):\n",
    "        super().__init__(isim,maas,departman)\n",
    "        self.sorumlu_oldugu_ekip=sorumlu_oldugu_ekip\n",
    "\n",
    "    def bilgileri_goster(self):\n",
    "        super().bilgileri_goster()\n",
    "        print(f\"sorumlu oldugu ekip sayısı {self.sorumlu_oldugu_ekip}\")"
   ]
  },
  {
   "cell_type": "code",
   "execution_count": 15,
   "id": "45118551-c82c-4218-80d6-567ac2201863",
   "metadata": {},
   "outputs": [],
   "source": [
    "\n",
    "calisan1=calisan(\"enes\",5000,\"elektronik\")\n",
    "yonetici1=yonetici(\"ali\",10000,\"yazılım\",\"donanım\")"
   ]
  },
  {
   "cell_type": "code",
   "execution_count": 16,
   "id": "ced983b3-110f-4343-ab16-aab038d8e33a",
   "metadata": {},
   "outputs": [
    {
     "name": "stdout",
     "output_type": "stream",
     "text": [
      "isim enes\n",
      "maas 5000\n",
      "departman elektronik\n",
      "\n",
      "isim ali\n",
      "maas 10000\n",
      "departman yazılım\n",
      "sorumlu oldugu ekip sayısı donanım\n",
      "\n"
     ]
    }
   ],
   "source": [
    "calisan1.bilgileri_goster()\n",
    "print()\n",
    "yonetici1.bilgileri_goster()\n",
    "print()"
   ]
  },
  {
   "cell_type": "code",
   "execution_count": null,
   "id": "d8e646c2-993d-4716-ab33-c6a4f165156d",
   "metadata": {},
   "outputs": [],
   "source": []
  },
  {
   "cell_type": "code",
   "execution_count": null,
   "id": "bba914fb-e35a-4d4d-8de2-ef56b76b8af0",
   "metadata": {},
   "outputs": [],
   "source": []
  }
 ],
 "metadata": {
  "kernelspec": {
   "display_name": "Python [conda env:base] *",
   "language": "python",
   "name": "conda-base-py"
  },
  "language_info": {
   "codemirror_mode": {
    "name": "ipython",
    "version": 3
   },
   "file_extension": ".py",
   "mimetype": "text/x-python",
   "name": "python",
   "nbconvert_exporter": "python",
   "pygments_lexer": "ipython3",
   "version": "3.13.5"
  }
 },
 "nbformat": 4,
 "nbformat_minor": 5
}
